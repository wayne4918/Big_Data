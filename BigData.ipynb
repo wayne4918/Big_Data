{
  "nbformat": 4,
  "nbformat_minor": 0,
  "metadata": {
    "colab": {
      "provenance": [],
      "authorship_tag": "ABX9TyMi7VqV7Q2z4M18BgFBnTzI",
      "include_colab_link": true
    },
    "kernelspec": {
      "name": "python3",
      "display_name": "Python 3"
    },
    "language_info": {
      "name": "python"
    }
  },
  "cells": [
    {
      "cell_type": "markdown",
      "metadata": {
        "id": "view-in-github",
        "colab_type": "text"
      },
      "source": [
        "<a href=\"https://colab.research.google.com/github/wayne4918/Big_Data/blob/bigdata/BigData.ipynb\" target=\"_parent\"><img src=\"https://colab.research.google.com/assets/colab-badge.svg\" alt=\"Open In Colab\"/></a>"
      ]
    },
    {
      "cell_type": "markdown",
      "source": [
        "#빅데이터 정리"
      ],
      "metadata": {
        "id": "f6ZLARgU0B0f"
      }
    },
    {
      "cell_type": "markdown",
      "source": [
        "1. 열방향: 선택 -select()\n",
        "2. 열방향: 계산 - mutate()\n",
        "3. 행방향: 조건 - filter()\n",
        "4. 행방향: 추가 - bind_rows()\n",
        "5. 행방향: 정렬 - arrange()\n",
        "6. 그룹 계산 - group_by()+summarise()\n",
        "7. 열결합 - left_join()\n"
      ],
      "metadata": {
        "id": "FrgAti9U5bn2"
      }
    },
    {
      "cell_type": "markdown",
      "source": [],
      "metadata": {
        "id": "FCuO6ETyXYop"
      }
    },
    {
      "cell_type": "markdown",
      "source": [
        "###파이썬 자료형\n",
        "1. 숫자형 (Nuberic)\n",
        " - Integer(정수)\n",
        " - Float(소수)\n",
        " - Complex(복소수)\n",
        "2. Boolean (T or F)\n",
        "3. Sequence Type\n",
        " - String(문자열)\n",
        " - list(리스트)\n",
        " - Tuple(튜플)\n",
        "4. Set(집합)\n",
        "5. Dictionary(딕셔너리)"
      ],
      "metadata": {
        "id": "sqCroBsp9Qdp"
      }
    },
    {
      "cell_type": "code",
      "source": [
        "a = 10\n",
        "type(a)"
      ],
      "metadata": {
        "colab": {
          "base_uri": "https://localhost:8080/"
        },
        "id": "iW9jjRHv9QL6",
        "outputId": "2d6fad38-83b2-4888-cf66-8e1fde30d25d"
      },
      "execution_count": null,
      "outputs": [
        {
          "output_type": "execute_result",
          "data": {
            "text/plain": [
              "int"
            ]
          },
          "metadata": {},
          "execution_count": 1
        }
      ]
    },
    {
      "cell_type": "code",
      "source": [
        "b = 1.111\n",
        "type(b)"
      ],
      "metadata": {
        "colab": {
          "base_uri": "https://localhost:8080/"
        },
        "id": "gbBUiQ1n0UcN",
        "outputId": "a85493e0-6b0e-413a-b8bc-9ff9eacd998d"
      },
      "execution_count": null,
      "outputs": [
        {
          "output_type": "execute_result",
          "data": {
            "text/plain": [
              "float"
            ]
          },
          "metadata": {},
          "execution_count": 3
        }
      ]
    },
    {
      "cell_type": "code",
      "source": [
        "type(\"love y the way u r\")"
      ],
      "metadata": {
        "colab": {
          "base_uri": "https://localhost:8080/"
        },
        "id": "OOTUu4A7-hqG",
        "outputId": "e3056da2-4885-4228-c988-1ab5d6875f66"
      },
      "execution_count": null,
      "outputs": [
        {
          "output_type": "execute_result",
          "data": {
            "text/plain": [
              "str"
            ]
          },
          "metadata": {},
          "execution_count": 4
        }
      ]
    },
    {
      "cell_type": "code",
      "source": [
        "type([\"love\",\"like\"])"
      ],
      "metadata": {
        "colab": {
          "base_uri": "https://localhost:8080/"
        },
        "id": "Bj2B_eY--xjb",
        "outputId": "fd1b5f8e-0b48-4499-d550-642e7d4a81cf"
      },
      "execution_count": null,
      "outputs": [
        {
          "output_type": "execute_result",
          "data": {
            "text/plain": [
              "list"
            ]
          },
          "metadata": {},
          "execution_count": 6
        }
      ]
    },
    {
      "cell_type": "code",
      "source": [
        "type((\"love\",\"like\"))"
      ],
      "metadata": {
        "colab": {
          "base_uri": "https://localhost:8080/"
        },
        "id": "toobYKb_-0ws",
        "outputId": "23a12576-c95f-4616-e3cd-479c3259dd24"
      },
      "execution_count": null,
      "outputs": [
        {
          "output_type": "execute_result",
          "data": {
            "text/plain": [
              "tuple"
            ]
          },
          "metadata": {},
          "execution_count": 7
        }
      ]
    },
    {
      "cell_type": "markdown",
      "source": [
        "리스트 - 요소 변경가능\n",
        "\n",
        "index -> []이런거 있는거\n",
        "\n",
        "[0,1,2,3,4,5,]\n",
        "\n",
        "[-6,-5,-4,-3,-2,-1]"
      ],
      "metadata": {
        "id": "ENuc6tUn-9nr"
      }
    },
    {
      "cell_type": "code",
      "source": [
        "a = [1,2,3,4,5,6,7,8,9,10]\n",
        "print(a[len(a)-1])\n",
        "print(a[-1])\n",
        "\n",
        "print(a[:])\n",
        "print(a[::2])\n",
        "print(a[-1::-2])\n",
        "\n",
        "print(a[len(a)-1::-1])\n",
        "print(a[-1::-1])\n",
        "print(a[::-1])"
      ],
      "metadata": {
        "colab": {
          "base_uri": "https://localhost:8080/"
        },
        "id": "AGvPZtOh-9a7",
        "outputId": "98e77405-959b-49d5-aae0-f3503cf67e4c"
      },
      "execution_count": null,
      "outputs": [
        {
          "output_type": "stream",
          "name": "stdout",
          "text": [
            "10\n",
            "10\n",
            "[1, 2, 3, 4, 5, 6, 7, 8, 9, 10]\n",
            "[1, 3, 5, 7, 9]\n",
            "[10, 8, 6, 4, 2]\n",
            "[10, 9, 8, 7, 6, 5, 4, 3, 2, 1]\n",
            "[10, 9, 8, 7, 6, 5, 4, 3, 2, 1]\n",
            "[10, 9, 8, 7, 6, 5, 4, 3, 2, 1]\n"
          ]
        }
      ]
    },
    {
      "cell_type": "code",
      "source": [
        "c = [1,2,3,4,5]\n",
        "c_square = [n**2 for n in c]\n",
        "print(c_square)"
      ],
      "metadata": {
        "colab": {
          "base_uri": "https://localhost:8080/"
        },
        "id": "xJGsOA6F-5Zs",
        "outputId": "0523c3ee-42bd-4a02-bd7f-1b30e2bdc923"
      },
      "execution_count": null,
      "outputs": [
        {
          "output_type": "stream",
          "name": "stdout",
          "text": [
            "[1, 4, 9, 16, 25]\n"
          ]
        }
      ]
    },
    {
      "cell_type": "code",
      "source": [
        "type({\"one\":1,\"two\":2,\"three\":3})"
      ],
      "metadata": {
        "colab": {
          "base_uri": "https://localhost:8080/"
        },
        "id": "qZhNYryyBHe5",
        "outputId": "2a1c302a-e6f3-4df4-e2b4-1296b5d70fbe"
      },
      "execution_count": null,
      "outputs": [
        {
          "output_type": "execute_result",
          "data": {
            "text/plain": [
              "dict"
            ]
          },
          "metadata": {},
          "execution_count": 18
        }
      ]
    },
    {
      "cell_type": "code",
      "source": [
        "a = [2,3,4]\n",
        "b = [2,7,3.5,\"Hello\"]\n",
        "c = []\n",
        "\n",
        "d = [2,[a,b]]\n",
        "e = a+b"
      ],
      "metadata": {
        "id": "WXO7ibY0Cj73"
      },
      "execution_count": null,
      "outputs": []
    },
    {
      "cell_type": "code",
      "source": [
        "print(d)\n",
        "type(d)\n",
        "y= b[1:4]\n",
        "print(y)\n",
        "print(e)\n",
        "print(e[-1])\n",
        "type(e[-2])\n",
        "\n",
        "z = d[1][0][2]\n",
        "print(z)"
      ],
      "metadata": {
        "colab": {
          "base_uri": "https://localhost:8080/"
        },
        "id": "zrYN_ETxDZfX",
        "outputId": "8bf73faf-9e17-402d-e2c6-56f732330fb8"
      },
      "execution_count": null,
      "outputs": [
        {
          "output_type": "stream",
          "name": "stdout",
          "text": [
            "[2, [[2, 3, 4], [2, 7, 3.5, 'Hello']]]\n",
            "[7, 3.5, 'Hello']\n",
            "[2, 3, 4, 2, 7, 3.5, 'Hello']\n",
            "Hello\n",
            "4\n"
          ]
        }
      ]
    },
    {
      "cell_type": "code",
      "source": [
        "import pandas as pd\n",
        "import numpy as np\n",
        "X = np.array([[0,1,1],[1,0,1],[1,1,1],[0,1,1],[0,0,1]])\n",
        "Y = np.array([1,0,1,0,1])\n",
        "df = pd.DataFrame(X,columns=[\"1\",\"2\",\"3\"])\n",
        "df['Target']=Y\n",
        "\n",
        "print(df)"
      ],
      "metadata": {
        "id": "Mpve14vMDYe1",
        "colab": {
          "base_uri": "https://localhost:8080/"
        },
        "outputId": "479ff898-5b58-4d2c-bb10-ff04762b52e1"
      },
      "execution_count": null,
      "outputs": [
        {
          "output_type": "stream",
          "name": "stdout",
          "text": [
            "   1  2  3  Target\n",
            "0  0  1  1       1\n",
            "1  1  0  1       0\n",
            "2  1  1  1       1\n",
            "3  0  1  1       0\n",
            "4  0  0  1       1\n"
          ]
        }
      ]
    },
    {
      "cell_type": "code",
      "source": [
        "import numpy as np\n",
        "\n",
        "# Rank 2 array\n",
        "a = np.array([[1, 2, 3, 4, 5],\n",
        "              [4, 5, 6, 7, 8],\n",
        "              [9, 8, 7, 6, 5]])\n",
        "\n",
        "print(a)\n",
        "'''\n",
        "[[1 2 3 4 5]\n",
        " [4 5 6 7 8]\n",
        " [9 8 7 6 5]]\n",
        "'''\n",
        "\n",
        "# row 1 to 3 (not inclusive) and first 3 columns\n",
        "b1 = a[1:3, :3]\n",
        "print(b1)\n",
        "\n",
        "# Last two rows and last two columns\n",
        "b2 = a[-2:, -2:]\n",
        "print(b2)\n",
        "\n",
        "# row 1 onwards and column 2 onwards\n",
        "b3 = a[1:, 2:]\n",
        "print(b3)\n",
        "\n",
        "# b3[0,2] is pointing to a[1,4]; modifying it will modify the original array\n",
        "b3[0, 2] = 88\n",
        "print(b3)\n",
        "\n",
        "# Checking how the original array 'a' is modified\n",
        "print(a)\n",
        "\n",
        "# row 2 onwards and all columns\n",
        "b4 = a[2:, :]\n",
        "print(b4)\n",
        "print(b4.shape)\n"
      ],
      "metadata": {
        "colab": {
          "base_uri": "https://localhost:8080/"
        },
        "id": "YpGJzTgyV1K6",
        "outputId": "1bb3f0ea-43b7-4b63-a443-6e9238e13e90"
      },
      "execution_count": null,
      "outputs": [
        {
          "output_type": "stream",
          "name": "stdout",
          "text": [
            "[[1 2 3 4 5]\n",
            " [4 5 6 7 8]\n",
            " [9 8 7 6 5]]\n",
            "[[4 5 6]\n",
            " [9 8 7]]\n",
            "[[7 8]\n",
            " [6 5]]\n",
            "[[6 7 8]\n",
            " [7 6 5]]\n",
            "[[ 6  7 88]\n",
            " [ 7  6  5]]\n",
            "[[ 1  2  3  4  5]\n",
            " [ 4  5  6  7 88]\n",
            " [ 9  8  7  6  5]]\n",
            "[[9 8 7 6 5]]\n",
            "(1, 5)\n"
          ]
        }
      ]
    },
    {
      "cell_type": "code",
      "source": [
        "import pandas as pd\n",
        "\n",
        "# Pandas Series 생성\n",
        "series = pd.Series([1, 2, 3, 4, 5])\n",
        "print(series)\n",
        "\n",
        "# 인덱스를 지정한 Pandas Series 생성\n",
        "series = pd.Series([1, 2, 3, 4, 5], index=['a', 'b', 'c', 'd', 'c'])\n",
        "print(series)\n",
        "\n",
        "# 위치 기반 인덱싱\n",
        "print(series[2])          # 3\n",
        "print(series.iloc[2])      # 3 - 위치에 따른 값 출력\n",
        "\n",
        "# 레이블 기반 인덱싱\n",
        "print(series['d'])         # 4\n",
        "print(series.loc['d'])     # 4 - 레이블에 따른 값 출력\n",
        "\n",
        "# 슬라이싱\n",
        "print(series[2:])          # 슬라이싱, 시리즈 반환\n",
        "print(series.iloc[2:])     # 위치에 기반한 슬라이싱, 시리즈 반환"
      ],
      "metadata": {
        "id": "Dul1I5kCHMt7",
        "colab": {
          "base_uri": "https://localhost:8080/"
        },
        "outputId": "c2c50a24-29cc-4ed9-db7f-95652583eb40"
      },
      "execution_count": null,
      "outputs": [
        {
          "output_type": "stream",
          "name": "stdout",
          "text": [
            "0    1\n",
            "1    2\n",
            "2    3\n",
            "3    4\n",
            "4    5\n",
            "dtype: int64\n",
            "a    1\n",
            "b    2\n",
            "c    3\n",
            "d    4\n",
            "c    5\n",
            "dtype: int64\n",
            "3\n",
            "3\n",
            "4\n",
            "4\n",
            "c    3\n",
            "d    4\n",
            "c    5\n",
            "dtype: int64\n",
            "c    3\n",
            "d    4\n",
            "c    5\n",
            "dtype: int64\n"
          ]
        },
        {
          "output_type": "stream",
          "name": "stderr",
          "text": [
            "<ipython-input-16-e4a80876038e>:12: FutureWarning: Series.__getitem__ treating keys as positions is deprecated. In a future version, integer keys will always be treated as labels (consistent with DataFrame behavior). To access a value by position, use `ser.iloc[pos]`\n",
            "  print(series[2])          # 3\n"
          ]
        }
      ]
    },
    {
      "cell_type": "code",
      "source": [
        "import pandas as pd\n",
        "\n",
        "# 날짜 범위 생성 (12개의 날짜)\n",
        "dates1 = pd.date_range('20190525', periods=12)\n",
        "print(dates1)\n",
        "\n",
        "# Series 생성 및 날짜 인덱스 설정\n",
        "series = pd.Series([1, 2, 3, 4, 5, 6, 7, 8, 9, 10, 11, 12])\n",
        "series.index = dates1\n",
        "print(series)\n"
      ],
      "metadata": {
        "colab": {
          "base_uri": "https://localhost:8080/"
        },
        "id": "vpDgKF4fmjfW",
        "outputId": "6c2ec9ad-850b-4a12-8f30-ea330a188032"
      },
      "execution_count": null,
      "outputs": [
        {
          "output_type": "stream",
          "name": "stdout",
          "text": [
            "DatetimeIndex(['2019-05-25', '2019-05-26', '2019-05-27', '2019-05-28',\n",
            "               '2019-05-29', '2019-05-30', '2019-05-31', '2019-06-01',\n",
            "               '2019-06-02', '2019-06-03', '2019-06-04', '2019-06-05'],\n",
            "              dtype='datetime64[ns]', freq='D')\n",
            "2019-05-25     1\n",
            "2019-05-26     2\n",
            "2019-05-27     3\n",
            "2019-05-28     4\n",
            "2019-05-29     5\n",
            "2019-05-30     6\n",
            "2019-05-31     7\n",
            "2019-06-01     8\n",
            "2019-06-02     9\n",
            "2019-06-03    10\n",
            "2019-06-04    11\n",
            "2019-06-05    12\n",
            "Freq: D, dtype: int64\n"
          ]
        }
      ]
    },
    {
      "cell_type": "code",
      "source": [
        "import pandas as pd\n",
        "import numpy as np\n",
        "\n",
        "# 랜덤 데이터를 가지는 DataFrame 생성\n",
        "df = pd.DataFrame(np.random.randn(10, 4), columns=list('ABCD'))\n",
        "print(df)\n",
        "\n",
        "# DataFrame을 CSV 파일로 저장\n",
        "df.to_csv('data.csv', index=False)\n"
      ],
      "metadata": {
        "colab": {
          "base_uri": "https://localhost:8080/"
        },
        "id": "8fT6N4AumtYo",
        "outputId": "978f1fd7-02b5-43ca-a34d-5b0ec7d74a64"
      },
      "execution_count": null,
      "outputs": [
        {
          "output_type": "stream",
          "name": "stdout",
          "text": [
            "          A         B         C         D\n",
            "0  0.504928 -1.044599 -0.627613  0.375485\n",
            "1  1.456569  1.530619 -0.640408 -1.359487\n",
            "2 -0.373992 -1.227641 -1.222415 -0.406982\n",
            "3 -0.638624 -0.228940 -0.456072  0.239640\n",
            "4 -2.265186  0.769735 -0.877103 -0.160772\n",
            "5 -0.170301  1.149806  1.483201  0.316339\n",
            "6  1.915772 -0.422619 -1.380887 -0.245290\n",
            "7 -0.059690 -0.196578  0.613495 -0.025515\n",
            "8  0.559441 -0.546745 -1.131045  0.470334\n",
            "9  0.389284 -0.203566  1.028501  0.464145\n"
          ]
        }
      ]
    },
    {
      "cell_type": "code",
      "source": [
        "import pandas as pd\n",
        "\n",
        "# CSV 파일 읽기\n",
        "df = pd.read_csv('data.csv')\n",
        "\n",
        "# 날짜 범위 생성 (10일간)\n",
        "days = pd.date_range('20190525', periods=10)\n",
        "\n",
        "# DataFrame의 인덱스를 날짜로 설정\n",
        "df.index = days\n",
        "\n",
        "# DataFrame 출력\n",
        "print(df)\n",
        "\n",
        "# 인덱스 출력\n",
        "print(df.index)\n",
        "\n",
        "# 값 출력\n",
        "print(df.values)\n"
      ],
      "metadata": {
        "colab": {
          "base_uri": "https://localhost:8080/"
        },
        "id": "Obu80HLim4qB",
        "outputId": "3626fc6c-957c-4eab-cd70-0cfeb072be74"
      },
      "execution_count": null,
      "outputs": [
        {
          "output_type": "stream",
          "name": "stdout",
          "text": [
            "                   A         B         C         D\n",
            "2019-05-25  0.504928 -1.044599 -0.627613  0.375485\n",
            "2019-05-26  1.456569  1.530619 -0.640408 -1.359487\n",
            "2019-05-27 -0.373992 -1.227641 -1.222415 -0.406982\n",
            "2019-05-28 -0.638624 -0.228940 -0.456072  0.239640\n",
            "2019-05-29 -2.265186  0.769735 -0.877103 -0.160772\n",
            "2019-05-30 -0.170301  1.149806  1.483201  0.316339\n",
            "2019-05-31  1.915772 -0.422619 -1.380887 -0.245290\n",
            "2019-06-01 -0.059690 -0.196578  0.613495 -0.025515\n",
            "2019-06-02  0.559441 -0.546745 -1.131045  0.470334\n",
            "2019-06-03  0.389284 -0.203566  1.028501  0.464145\n",
            "DatetimeIndex(['2019-05-25', '2019-05-26', '2019-05-27', '2019-05-28',\n",
            "               '2019-05-29', '2019-05-30', '2019-05-31', '2019-06-01',\n",
            "               '2019-06-02', '2019-06-03'],\n",
            "              dtype='datetime64[ns]', freq='D')\n",
            "[[ 0.50492789 -1.04459929 -0.62761284  0.37548511]\n",
            " [ 1.45656872  1.53061886 -0.64040799 -1.35948655]\n",
            " [-0.37399205 -1.22764081 -1.22241468 -0.40698204]\n",
            " [-0.63862381 -0.22893955 -0.45607242  0.23963972]\n",
            " [-2.26518555  0.76973526 -0.87710277 -0.1607718 ]\n",
            " [-0.17030144  1.14980643  1.48320145  0.31633889]\n",
            " [ 1.91577228 -0.42261853 -1.38088665 -0.24528968]\n",
            " [-0.05969036 -0.19657783  0.61349547 -0.0255147 ]\n",
            " [ 0.55944128 -0.54674528 -1.13104451  0.4703339 ]\n",
            " [ 0.38928378 -0.20356644  1.02850067  0.46414518]]\n"
          ]
        }
      ]
    },
    {
      "cell_type": "code",
      "source": [
        "# 통계 정보 출력\n",
        "print(df.describe())\n",
        "\n",
        "# 각 열의 평균 계산\n",
        "print(df.mean(0))  # 0은 각 열에 대해 평균을 계산\n",
        "\n",
        "# 각 행의 평균 계산\n",
        "print(df.mean(1))  # 1은 각 행에 대해 평균을 계산\n",
        "\n",
        "# 상위 5개 행 출력\n",
        "print(df.head())\n",
        "\n",
        "# 하위 5개 행 출력\n",
        "print(df.tail())\n",
        "\n",
        "# 특정 열 출력\n",
        "print(df['A'])  # 열 'A' 출력\n",
        "# 동일한 방법\n",
        "print(df.A)\n",
        "\n",
        "# 여러 열을 선택하여 출력\n",
        "print(df[['A', 'B']])\n",
        "\n",
        "# 슬라이싱을 통한 행 선택 (2번째부터 4번째까지)\n",
        "print(df[2:4])\n",
        "\n",
        "# iloc을 이용한 슬라이싱 (2번째부터 4번째까지)\n",
        "print(df.iloc[2:4])\n",
        "\n",
        "# A열과 B열의 값이 모두 0보다 큰 행을 선택\n",
        "print(df[(df.A > 0) & (df.B > 0)])\n"
      ],
      "metadata": {
        "colab": {
          "base_uri": "https://localhost:8080/"
        },
        "id": "3j8Qj-mUnAnv",
        "outputId": "b2e7a5e9-e8c3-4ab9-c90f-452a246ce030"
      },
      "execution_count": null,
      "outputs": [
        {
          "output_type": "stream",
          "name": "stdout",
          "text": [
            "               A          B          C          D\n",
            "count  10.000000  10.000000  10.000000  10.000000\n",
            "mean    0.131820  -0.042053  -0.321034  -0.033210\n",
            "std     1.157047   0.909700   1.003615   0.560219\n",
            "min    -2.265186  -1.227641  -1.380887  -1.359487\n",
            "25%    -0.323069  -0.515714  -1.067559  -0.224160\n",
            "50%     0.164797  -0.216253  -0.634010   0.107063\n",
            "75%     0.545813   0.528157   0.346103   0.360699\n",
            "max     1.915772   1.530619   1.483201   0.470334\n",
            "A    0.131820\n",
            "B   -0.042053\n",
            "C   -0.321034\n",
            "D   -0.033210\n",
            "dtype: float64\n",
            "2019-05-25   -0.197950\n",
            "2019-05-26    0.246823\n",
            "2019-05-27   -0.807757\n",
            "2019-05-28   -0.270999\n",
            "2019-05-29   -0.633331\n",
            "2019-05-30    0.694761\n",
            "2019-05-31   -0.033256\n",
            "2019-06-01    0.082928\n",
            "2019-06-02   -0.162004\n",
            "2019-06-03    0.419591\n",
            "Freq: D, dtype: float64\n",
            "                   A         B         C         D\n",
            "2019-05-25  0.504928 -1.044599 -0.627613  0.375485\n",
            "2019-05-26  1.456569  1.530619 -0.640408 -1.359487\n",
            "2019-05-27 -0.373992 -1.227641 -1.222415 -0.406982\n",
            "2019-05-28 -0.638624 -0.228940 -0.456072  0.239640\n",
            "2019-05-29 -2.265186  0.769735 -0.877103 -0.160772\n",
            "                   A         B         C         D\n",
            "2019-05-30 -0.170301  1.149806  1.483201  0.316339\n",
            "2019-05-31  1.915772 -0.422619 -1.380887 -0.245290\n",
            "2019-06-01 -0.059690 -0.196578  0.613495 -0.025515\n",
            "2019-06-02  0.559441 -0.546745 -1.131045  0.470334\n",
            "2019-06-03  0.389284 -0.203566  1.028501  0.464145\n",
            "2019-05-25    0.504928\n",
            "2019-05-26    1.456569\n",
            "2019-05-27   -0.373992\n",
            "2019-05-28   -0.638624\n",
            "2019-05-29   -2.265186\n",
            "2019-05-30   -0.170301\n",
            "2019-05-31    1.915772\n",
            "2019-06-01   -0.059690\n",
            "2019-06-02    0.559441\n",
            "2019-06-03    0.389284\n",
            "Freq: D, Name: A, dtype: float64\n",
            "2019-05-25    0.504928\n",
            "2019-05-26    1.456569\n",
            "2019-05-27   -0.373992\n",
            "2019-05-28   -0.638624\n",
            "2019-05-29   -2.265186\n",
            "2019-05-30   -0.170301\n",
            "2019-05-31    1.915772\n",
            "2019-06-01   -0.059690\n",
            "2019-06-02    0.559441\n",
            "2019-06-03    0.389284\n",
            "Freq: D, Name: A, dtype: float64\n",
            "                   A         B\n",
            "2019-05-25  0.504928 -1.044599\n",
            "2019-05-26  1.456569  1.530619\n",
            "2019-05-27 -0.373992 -1.227641\n",
            "2019-05-28 -0.638624 -0.228940\n",
            "2019-05-29 -2.265186  0.769735\n",
            "2019-05-30 -0.170301  1.149806\n",
            "2019-05-31  1.915772 -0.422619\n",
            "2019-06-01 -0.059690 -0.196578\n",
            "2019-06-02  0.559441 -0.546745\n",
            "2019-06-03  0.389284 -0.203566\n",
            "                   A         B         C         D\n",
            "2019-05-27 -0.373992 -1.227641 -1.222415 -0.406982\n",
            "2019-05-28 -0.638624 -0.228940 -0.456072  0.239640\n",
            "                   A         B         C         D\n",
            "2019-05-27 -0.373992 -1.227641 -1.222415 -0.406982\n",
            "2019-05-28 -0.638624 -0.228940 -0.456072  0.239640\n",
            "                   A         B         C         D\n",
            "2019-05-26  1.456569  1.530619 -0.640408 -1.359487\n"
          ]
        }
      ]
    },
    {
      "cell_type": "code",
      "source": [
        "import pandas as pd\n",
        "\n",
        "# 데이터 딕셔너리 생성\n",
        "data = {\n",
        "    'name': ['Janet', 'Nad', 'Timothy', 'June', 'Amy'],\n",
        "    'year': [2012, 2012, 2013, 2014, 2014],\n",
        "    'reports': [6, 13, 14, 1, 7]\n",
        "}\n",
        "\n",
        "# 데이터프레임 생성, 인덱스를 지정\n",
        "df = pd.DataFrame(data, index=['Singapore', 'China', 'Japan', 'Sweden', 'Norway'])\n",
        "print(df)\n",
        "\n",
        "# Numpy 배열 생성 및 데이터프레임에 새로운 열 추가\n",
        "import numpy as np\n",
        "schools = np.array([\"Cambridge\", \"Oxford\", \"Oxford\", \"Cambridge\", \"Oxford\"])\n",
        "df[\"school\"] = schools\n",
        "print(df)\n",
        "\n",
        "# 인덱스를 기준으로 행 제거\n",
        "print(df.drop(['China', 'Japan']))\n",
        "\n",
        "# 특정 열의 값 조건을 기준으로 행 제거\n",
        "print(df[df.name != 'Nad'])\n",
        "\n",
        "# 열 제거\n",
        "print(df.drop('reports', axis=1))\n"
      ],
      "metadata": {
        "colab": {
          "base_uri": "https://localhost:8080/"
        },
        "id": "44CbEGIRnNHv",
        "outputId": "33ac3db4-a6f1-47ef-fd19-89e91d0db332"
      },
      "execution_count": null,
      "outputs": [
        {
          "output_type": "stream",
          "name": "stdout",
          "text": [
            "              name  year  reports\n",
            "Singapore    Janet  2012        6\n",
            "China          Nad  2012       13\n",
            "Japan      Timothy  2013       14\n",
            "Sweden        June  2014        1\n",
            "Norway         Amy  2014        7\n",
            "              name  year  reports     school\n",
            "Singapore    Janet  2012        6  Cambridge\n",
            "China          Nad  2012       13     Oxford\n",
            "Japan      Timothy  2013       14     Oxford\n",
            "Sweden        June  2014        1  Cambridge\n",
            "Norway         Amy  2014        7     Oxford\n",
            "            name  year  reports     school\n",
            "Singapore  Janet  2012        6  Cambridge\n",
            "Sweden      June  2014        1  Cambridge\n",
            "Norway       Amy  2014        7     Oxford\n",
            "              name  year  reports     school\n",
            "Singapore    Janet  2012        6  Cambridge\n",
            "Japan      Timothy  2013       14     Oxford\n",
            "Sweden        June  2014        1  Cambridge\n",
            "Norway         Amy  2014        7     Oxford\n",
            "              name  year     school\n",
            "Singapore    Janet  2012  Cambridge\n",
            "China          Nad  2012     Oxford\n",
            "Japan      Timothy  2013     Oxford\n",
            "Sweden        June  2014  Cambridge\n",
            "Norway         Amy  2014     Oxford\n"
          ]
        }
      ]
    },
    {
      "cell_type": "code",
      "source": [
        "import pandas as pd\n",
        "\n",
        "# 데이터프레임 생성\n",
        "df = pd.DataFrame(\n",
        "    {\n",
        "        \"Gender\": ['Male', 'Male', 'Female', 'Female', 'Female'],\n",
        "        \"Team\": [1, 2, 3, 3, 1]\n",
        "    }\n",
        ")\n",
        "print(df)\n",
        "\n",
        "# 성별에 따른 팀 분포를 표시\n",
        "print(\"Displaying the distribution of genders in each team\")\n",
        "print(pd.crosstab(df.Gender, df.Team))\n",
        "\n",
        "# 팀별 성별 분포를 표시\n",
        "print(pd.crosstab(df.Team, df.Gender))\n"
      ],
      "metadata": {
        "colab": {
          "base_uri": "https://localhost:8080/"
        },
        "id": "lPuVT24pndOi",
        "outputId": "07f2fc05-1e0c-4de5-e238-ecbdfb0b0a58"
      },
      "execution_count": null,
      "outputs": [
        {
          "output_type": "stream",
          "name": "stdout",
          "text": [
            "   Gender  Team\n",
            "0    Male     1\n",
            "1    Male     2\n",
            "2  Female     3\n",
            "3  Female     3\n",
            "4  Female     1\n",
            "Displaying the distribution of genders in each team\n",
            "Team    1  2  3\n",
            "Gender         \n",
            "Female  1  0  2\n",
            "Male    1  1  0\n",
            "Gender  Female  Male\n",
            "Team                \n",
            "1            1     1\n",
            "2            0     1\n",
            "3            2     0\n"
          ]
        }
      ]
    },
    {
      "cell_type": "code",
      "source": [],
      "metadata": {
        "id": "UrL4RMRVnsmR"
      },
      "execution_count": null,
      "outputs": []
    }
  ]
}